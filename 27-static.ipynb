{
 "cells": [
  {
   "cell_type": "markdown",
   "id": "bd1bbac5",
   "metadata": {},
   "source": [
    "## Статичные решения : собираем инфу за один проход , а после вычисляем значение по формуле"
   ]
  },
  {
   "cell_type": "markdown",
   "id": "62d3b536",
   "metadata": {},
   "source": [
    "Количество пар чисел , с четной суммой "
   ]
  },
  {
   "cell_type": "code",
   "execution_count": null,
   "id": "cdde38fd",
   "metadata": {},
   "outputs": [],
   "source": [
    "#k0 - четные k1 - нечетные\n",
    "#количеcтво пар четных\n",
    "for i in range(n):\n",
    "    x = int(f.readline())\n",
    "    if x%2==0:k0+=1\n",
    "    else: k1 += 1\n",
    "print(k0*(k0-1)/2 + k1*(k1-1)/2)"
   ]
  },
  {
   "cell_type": "markdown",
   "id": "26c89bf7",
   "metadata": {},
   "source": [
    "Количество пар ,кратных 11"
   ]
  },
  {
   "cell_type": "code",
   "execution_count": null,
   "id": "b6c045b0",
   "metadata": {},
   "outputs": [],
   "source": [
    "#кратных 11 --> 11 * 11 или 11* некратные 11\n",
    "for i in range(n):\n",
    "    x = int(f.readline())\n",
    "    if x%11==0:k11+=1\n",
    "    else: k += 1\n",
    "print(k11*(k11-1)/2 + k*k11)"
   ]
  },
  {
   "cell_type": "code",
   "execution_count": null,
   "id": "2e71d48f",
   "metadata": {},
   "outputs": [],
   "source": [
    "for i in range(n):\n",
    "    x = int(f.readline())\n",
    "    if x%26==0:k26+=1\n",
    "    elif x%2 == 0: k2 += 1\n",
    "    elif x%13 == 0: k13 += 1\n",
    "    else:k+=1\n",
    "print(k26*(k26-1)/ /2 + k26*k + k2*k13)"
   ]
  },
  {
   "cell_type": "markdown",
   "id": "a668daa6",
   "metadata": {},
   "source": [
    "Количество пар элементов, произвдение кратно 17 ,а сумма четна"
   ]
  },
  {
   "cell_type": "code",
   "execution_count": null,
   "id": "a1d071ea",
   "metadata": {},
   "outputs": [],
   "source": [
    "k17_0 = k17_1 = k_0 = k_1 = 0\n",
    "for i in range(n):\n",
    "    x = int(f.readline())\n",
    "    if x%17==0 and x%2 == 0:k17_0 += 1\n",
    "    elif x%17==0 and x%2 == 1: k2 += 1\n",
    "    elif x%2 == 0: k_0+=1\n",
    "    elif x%2 == 1: k_1+=1\n",
    "print(k17_0*(k17_0-1)//2 + k17_1(k17_1-1)//2 + k17_0*k_0 + k17_1*k_1)"
   ]
  },
  {
   "cell_type": "markdown",
   "id": "4fefd0ba",
   "metadata": {},
   "source": [
    "Количество пар элементов , сумма\\разность которых кратна 100"
   ]
  },
  {
   "cell_type": "code",
   "execution_count": null,
   "id": "e98b3517",
   "metadata": {},
   "outputs": [],
   "source": [
    "#сумма\n",
    "for i in range(n):\n",
    "    x =int(f.readline())\n",
    "    ost = x%100\n",
    "    k[ost] += 1\n",
    "count = k[0]*(k[0] - 1)//2 + k[50]*(k[50]-1)//2\n",
    "for i in range(1 , 50):\n",
    "    count += k[i]*k[100-i]\n",
    "print(count)"
   ]
  },
  {
   "cell_type": "code",
   "execution_count": null,
   "id": "c281371f",
   "metadata": {},
   "outputs": [],
   "source": [
    "#разность --> остатки должны быть одинаковыми\\чтобы делилось на 100\n",
    "for i in range(n):\n",
    "    x =int(f.readline())\n",
    "    ost = x%100\n",
    "    k[ost] += 1\n",
    "count = 0\n",
    "for i in range(1 , 100):\n",
    "    count += k[i]*(k[i]-1)//2\n",
    "print(count)"
   ]
  },
  {
   "cell_type": "markdown",
   "id": "8d06a7ed",
   "metadata": {},
   "source": [
    "Количество пар элементов , сумма которых равна 69 и ровно один из них делится на 7"
   ]
  },
  {
   "cell_type": "code",
   "execution_count": null,
   "id": "de256586",
   "metadata": {},
   "outputs": [],
   "source": [
    "k = [0]*69\n",
    "k7 = [0]*69\n",
    "for i in range(n):\n",
    "    x =int(f.readline())\n",
    "    ost = x%69\n",
    "    if x%7 == 0: k7[ost] += 1\n",
    "    else: k[ost] += 1\n",
    "        \n",
    "count = k[0]*k7[0]\n",
    "for i in range(1 , 68):\n",
    "    count += k[i]*k7[69-i]\n",
    "print(count)"
   ]
  },
  {
   "cell_type": "markdown",
   "id": "18eab722",
   "metadata": {},
   "source": [
    "Найти макс\\мин четную суммму пары"
   ]
  },
  {
   "cell_type": "code",
   "execution_count": null,
   "id": "2e73c5b0",
   "metadata": {},
   "outputs": [],
   "source": [
    "n =int(f.readline())\n",
    "a[0] , a[1] = [] , []\n",
    "for i in range(n):\n",
    "    x = int(f.readline())\n",
    "    if x%2 == 0: a0+=[x]\n",
    "    else: a1 += [x]\n",
    "a0.sort()\n",
    "a1.sort()\n",
    "print(max(a0[-1]+a0[-2] , a1[-1]+a1[-2]) , min(a0[0]+a0[1] , a1[0]+a1[1]))"
   ]
  },
  {
   "cell_type": "markdown",
   "id": "a5d6d83d",
   "metadata": {},
   "source": [
    "Найти мин\\макс произведение , кратное 23"
   ]
  },
  {
   "cell_type": "code",
   "execution_count": null,
   "id": "a5e46b30",
   "metadata": {},
   "outputs": [],
   "source": [
    "n =int(f.readline())\n",
    "a , a23 = [] , []\n",
    "for i in range(n):\n",
    "    x = int(f.readline())\n",
    "    if x%23 == 0: a23+=[x]\n",
    "    else: a += [x]\n",
    "a.sort()\n",
    "a23.sort()\n",
    "print(max(a[-1]*a23[-2] , a23[-1]*a23[-2]) , min(a[0]+a23[1] , a23[0]+a23[1]))"
   ]
  },
  {
   "cell_type": "markdown",
   "id": "a8d0e4f4",
   "metadata": {},
   "source": [
    "Найти макс\\мин нечетную сумму пары ,в которой хотя бы одно из чисел делится на 17"
   ]
  },
  {
   "cell_type": "code",
   "execution_count": null,
   "id": "01258162",
   "metadata": {},
   "outputs": [],
   "source": [
    "f = open('27B.txt')\n",
    "n = int(f.realdine())\n",
    "a0 = a1 = []\n",
    "a17_0 = a17_1 =[]\n",
    "for i in range(n):\n",
    "    x = int(f.readline())\n",
    "    if x%17 == 0and x%2 == 0:a17_0 += [x]\n",
    "    if x%17 == 0 and x%2 == 1:a17_1 += [x]\n",
    "    if x%17 != 0and x%2 == 0:a0 += [x]\n",
    "    if x%17 != 0and x%2 != 0:a1 += [x]\n",
    "a0.sort()\n",
    "a1.sort()\n",
    "a17_0.sort()\n",
    "a17_1.sort()\n",
    "\n",
    "a = a0[:2] + a1[:2] + a17_0[:2] + a17_1[:2]\n",
    "# если ищем максимум пишем a = a0[-2:] + a1[-2:] + a17_0[-2:] + a17_1[-2:] \n",
    "#то есть выбираем самые малые или большие значения\n",
    "ans = []\n",
    "for i in range(len(a)):\n",
    "    for j in range(len(a)):\n",
    "        if (a[i]+a[j])%2 != 0 and a[i]*a[j] == 0:\n",
    "            ans.append(a[i] + a[j])\n",
    "print(min(ans))"
   ]
  },
  {
   "cell_type": "code",
   "execution_count": null,
   "id": "587d5a2f",
   "metadata": {},
   "outputs": [],
   "source": [
    "Найти макс\\мин сумму пары кратную 25"
   ]
  },
  {
   "cell_type": "code",
   "execution_count": null,
   "id": "a039a0fc",
   "metadata": {},
   "outputs": [],
   "source": [
    "f = open('27B.txt')\n",
    "n = int(f.realdine())\n",
    "m = [[] for i in range(25)]\n",
    "for i in range(n):\n",
    "    x = int(f.readline())\n",
    "    ost = x%25\n",
    "    m[ost] += [x]\n",
    "a = []\n",
    "for i in range(25):\n",
    "    m[i].sort()\n",
    "    a += m[i][:2]\n",
    "ans = []\n",
    "for i in range(len(a)):\n",
    "    for j in range(i+1 , len(a)):\n",
    "        if (a[i]+a[j])%25 == 0:\n",
    "            ans.append(a[i]+a[j])\n",
    "print(min(ans))"
   ]
  },
  {
   "cell_type": "markdown",
   "id": "323435c0",
   "metadata": {},
   "source": [
    "найти макс мин сумму тройки чисел , произвдеение которых равно 36.произведение кратно 36 , если произведение остатков делится на 36...(36m+k)(36n+l)(36p+q) = 36mnk + k*l*q"
   ]
  },
  {
   "cell_type": "code",
   "execution_count": null,
   "id": "00a9df49",
   "metadata": {},
   "outputs": [],
   "source": [
    "f = open('27B.txt')\n",
    "n = int(f.realdine())\n",
    "m = [[] for i in range(36)]\n",
    "for i in range(n):\n",
    "    x = int(f.realdine())\n",
    "    ost = x%36\n",
    "    m[ost] += [x]\n",
    "    \n",
    "a = []\n",
    "for i in range(36):\n",
    "    m[i].sort()\n",
    "    a+=m[i][-3:]\n",
    "ans = []\n",
    "for i in range(len(a)):\n",
    "    for j in range(i+1 , len(a)):\n",
    "        for k in range(j+1 , len(a)):\n",
    "            if (a[i]*a[j]*a[k])%36 == 0:\n",
    "                ans.append(a[i]+a[j]+a[k])\n",
    "print(max(ans))"
   ]
  },
  {
   "cell_type": "code",
   "execution_count": null,
   "id": "55a9eca7",
   "metadata": {},
   "outputs": [],
   "source": [
    "задача с плоскостью"
   ]
  },
  {
   "cell_type": "code",
   "execution_count": null,
   "id": "9b23891e",
   "metadata": {},
   "outputs": [],
   "source": [
    "f = open('27B.txt')\n",
    "n = int(f.readline())\n",
    "k1 = k2 = k3 = k4 = 0\n",
    "for i in range(n):\n",
    "    x , y = map(int , f.realdine().split())\n",
    "    if x > 0 and y > 0:k1+=1\n",
    "    if x < 0 and y > 0:k2+=1\n",
    "    if x > 0 and y < 0:k3+=1\n",
    "    if x < 0 and y < 0:k4+=1\n",
    "print(k2*(k2-1)//2*k1 + k2*k1*(k1-1)//2 + k3*(k3-1)//2*k4 + k3*k4*(k4-1)//2)"
   ]
  },
  {
   "cell_type": "code",
   "execution_count": null,
   "id": "da2688d3",
   "metadata": {},
   "outputs": [],
   "source": [
    "задача с плоскостью"
   ]
  },
  {
   "cell_type": "code",
   "execution_count": null,
   "id": "c77d8245",
   "metadata": {},
   "outputs": [],
   "source": [
    "f = open('27B.txt')\n",
    "n = int(f.readline())\n",
    "m1 = m2 = 0\n",
    "for i in range(n):\n",
    "    x , y = map(int , f.readline().split())\n",
    "    if x == y and abs(x)>m1:m1 = abs(x)\n",
    "    if x == -y and abs(x)>m2:m2 = abs(x)\n",
    "if m1*m2:print(m1*m2)\n",
    "else:print('not exist')\n",
    "        "
   ]
  },
  {
   "cell_type": "code",
   "execution_count": null,
   "id": "06d7634c",
   "metadata": {},
   "outputs": [],
   "source": []
  },
  {
   "cell_type": "code",
   "execution_count": null,
   "id": "993123ea",
   "metadata": {},
   "outputs": [],
   "source": []
  },
  {
   "cell_type": "code",
   "execution_count": null,
   "id": "ac74becc",
   "metadata": {},
   "outputs": [],
   "source": []
  }
 ],
 "metadata": {
  "kernelspec": {
   "display_name": "Python 3 (ipykernel)",
   "language": "python",
   "name": "python3"
  },
  "language_info": {
   "codemirror_mode": {
    "name": "ipython",
    "version": 3
   },
   "file_extension": ".py",
   "mimetype": "text/x-python",
   "name": "python",
   "nbconvert_exporter": "python",
   "pygments_lexer": "ipython3",
   "version": "3.10.8"
  }
 },
 "nbformat": 4,
 "nbformat_minor": 5
}
