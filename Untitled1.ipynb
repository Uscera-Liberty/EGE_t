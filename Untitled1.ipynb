{
 "cells": [
  {
   "cell_type": "code",
   "execution_count": null,
   "id": "aed60979",
   "metadata": {},
   "outputs": [],
   "source": [
    "Пробник Деева хардкор в 4к на максималках"
   ]
  },
  {
   "cell_type": "code",
   "execution_count": null,
   "id": "ad9c6af3",
   "metadata": {},
   "outputs": [],
   "source": [
    "Задание 5"
   ]
  },
  {
   "cell_type": "code",
   "execution_count": 1,
   "id": "bb98e456",
   "metadata": {},
   "outputs": [
    {
     "name": "stdout",
     "output_type": "stream",
     "text": [
      "158\n",
      "414\n",
      "926\n"
     ]
    }
   ],
   "source": [
    "for N in range(100 , 1000):\n",
    "    s = \"{:08b}\".format(N) \n",
    "    p = s.rfind('1') \n",
    "    sR = s[p:] \n",
    "    for i in range(p-1,-1,-1): \n",
    "        sR = ('1' if s[i] == '0' else '0') + sR\n",
    "    if int(sR,2) == 98:\n",
    "        print(N)"
   ]
  },
  {
   "cell_type": "code",
   "execution_count": 21,
   "id": "e6a936d3",
   "metadata": {},
   "outputs": [
    {
     "name": "stdout",
     "output_type": "stream",
     "text": [
      "2880\n"
     ]
    }
   ],
   "source": [
    "from itertools import permutations\n",
    "k = 0\n",
    "for x in permutations('АМФИБРАХИЙ' , 10):\n",
    "    w = ''.join(x)\n",
    "    if w[:2] == 'АМ' and w[-2:] == 'ИЙ':k+=1\n",
    "print(k)"
   ]
  },
  {
   "cell_type": "code",
   "execution_count": null,
   "id": "b613dd1e",
   "metadata": {},
   "outputs": [],
   "source": [
    "#сначала решила жостким брутфорсом и перебором , энивей повезло , что всего 1 тройка\n"
   ]
  },
  {
   "cell_type": "code",
   "execution_count": null,
   "id": "921982db",
   "metadata": {},
   "outputs": [],
   "source": [
    "for "
   ]
  },
  {
   "cell_type": "code",
   "execution_count": null,
   "id": "2dac9d56",
   "metadata": {},
   "outputs": [],
   "source": []
  },
  {
   "cell_type": "code",
   "execution_count": null,
   "id": "34fa4bda",
   "metadata": {},
   "outputs": [],
   "source": []
  },
  {
   "cell_type": "code",
   "execution_count": null,
   "id": "3d0e4441",
   "metadata": {},
   "outputs": [],
   "source": []
  },
  {
   "cell_type": "code",
   "execution_count": null,
   "id": "7de45fc7",
   "metadata": {},
   "outputs": [],
   "source": []
  },
  {
   "cell_type": "code",
   "execution_count": null,
   "id": "07108851",
   "metadata": {},
   "outputs": [],
   "source": []
  },
  {
   "cell_type": "code",
   "execution_count": null,
   "id": "efaa424b",
   "metadata": {},
   "outputs": [],
   "source": []
  },
  {
   "cell_type": "code",
   "execution_count": 22,
   "id": "641f5962",
   "metadata": {
    "scrolled": true
   },
   "outputs": [
    {
     "ename": "IndexError",
     "evalue": "string index out of range",
     "output_type": "error",
     "traceback": [
      "\u001b[1;31m---------------------------------------------------------------------------\u001b[0m",
      "\u001b[1;31mIndexError\u001b[0m                                Traceback (most recent call last)",
      "Cell \u001b[1;32mIn[22], line 6\u001b[0m\n\u001b[0;32m      4\u001b[0m \u001b[38;5;28;01mfor\u001b[39;00m _ \u001b[38;5;129;01min\u001b[39;00m f:\n\u001b[0;32m      5\u001b[0m     s \u001b[38;5;241m=\u001b[39m f\u001b[38;5;241m.\u001b[39mreadline()\u001b[38;5;241m.\u001b[39mstrip()\n\u001b[1;32m----> 6\u001b[0m     k \u001b[38;5;241m=\u001b[39m \u001b[43ms\u001b[49m\u001b[43m[\u001b[49m\u001b[38;5;241;43m0\u001b[39;49m\u001b[43m]\u001b[49m\n\u001b[0;32m      7\u001b[0m     \u001b[38;5;28;01mfor\u001b[39;00m i \u001b[38;5;129;01min\u001b[39;00m \u001b[38;5;28mrange\u001b[39m(\u001b[38;5;241m1\u001b[39m , \u001b[38;5;28mlen\u001b[39m(s)):\n\u001b[0;32m      8\u001b[0m         \u001b[38;5;28;01mif\u001b[39;00m s[i] \u001b[38;5;241m==\u001b[39m k[\u001b[38;5;241m-\u001b[39m\u001b[38;5;241m1\u001b[39m]:\n",
      "\u001b[1;31mIndexError\u001b[0m: string index out of range"
     ]
    }
   ],
   "source": [
    "#переместить файл\n",
    "f = open('24-1.txt')\n",
    "mxstr = ''\n",
    "countb = 10**13\n",
    "for _ in f:\n",
    "    s = f.readline().strip()\n",
    "    k = s[0]\n",
    "    for i in range(1 , len(s)):\n",
    "        if s[i] == k[-1]:\n",
    "            k += s[i]\n",
    "        else:\n",
    "            mxstr = max(mxstr , k , key = len)\n",
    "            if s.count(mxstr[-1]) < countb and mxstr in s:\n",
    "                minstr = s\n",
    "            k = s[i]\n",
    "            continue\n",
    "print(mxstr , minstr.count('E'))\n",
    "f.close()               "
   ]
  },
  {
   "cell_type": "code",
   "execution_count": null,
   "id": "748c20d4",
   "metadata": {},
   "outputs": [],
   "source": []
  }
 ],
 "metadata": {
  "kernelspec": {
   "display_name": "Python 3 (ipykernel)",
   "language": "python",
   "name": "python3"
  },
  "language_info": {
   "codemirror_mode": {
    "name": "ipython",
    "version": 3
   },
   "file_extension": ".py",
   "mimetype": "text/x-python",
   "name": "python",
   "nbconvert_exporter": "python",
   "pygments_lexer": "ipython3",
   "version": "3.10.8"
  }
 },
 "nbformat": 4,
 "nbformat_minor": 5
}
