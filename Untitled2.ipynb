{
 "cells": [
  {
   "cell_type": "code",
   "execution_count": 4,
   "id": "2dd72b83",
   "metadata": {},
   "outputs": [
    {
     "name": "stdout",
     "output_type": "stream",
     "text": [
      "85\n"
     ]
    }
   ],
   "source": []
  },
  {
   "cell_type": "code",
   "execution_count": null,
   "id": "495dd143",
   "metadata": {},
   "outputs": [],
   "source": []
  },
  {
   "cell_type": "code",
   "execution_count": 8,
   "id": "c6743377",
   "metadata": {},
   "outputs": [
    {
     "name": "stdout",
     "output_type": "stream",
     "text": [
      "x y w z\n",
      "1 1 0 1\n",
      "1 0 1 1\n",
      "1 0 1 0\n",
      "1 0 0 1\n",
      "1 0 0 0\n",
      "zwyx\n"
     ]
    }
   ],
   "source": [
    "print('x y w z')\n",
    "for x in 1 ,0:\n",
    "    for y in 1 ,0:\n",
    "        for w in 1 ,0:\n",
    "            for z in 1 , 0:\n",
    "                if (((z <= w) <= (not(y))) and x):\n",
    "                    print(x , y , w , z)\n",
    "print('zwyx')"
   ]
  },
  {
   "cell_type": "code",
   "execution_count": 7,
   "id": "769f5a70",
   "metadata": {},
   "outputs": [
    {
     "name": "stdout",
     "output_type": "stream",
     "text": [
      "85\n"
     ]
    }
   ],
   "source": [
    "for N in range(1 , 257):\n",
    "    s = \"{:08b}\".format(N) \n",
    "    p = s.rfind('1') \n",
    "    sR = s[p:] \n",
    "    for i in range(p-1,-1,-1): \n",
    "        sR = ('1' if s[i] == '0' else '0') + sR\n",
    "    if int(sR,2) == 171:\n",
    "        print(N)"
   ]
  },
  {
   "cell_type": "code",
   "execution_count": 15,
   "id": "b5c33872",
   "metadata": {},
   "outputs": [
    {
     "name": "stdout",
     "output_type": "stream",
     "text": [
      "10080\n"
     ]
    }
   ],
   "source": [
    "from itertools import permutations\n",
    "s = set()\n",
    "for x in permutations('АМФИБРАХИЙ' ,10):\n",
    "    w = ''.join(x)\n",
    "    if w[4:6] == 'БР':s.add(w)\n",
    "print(len(s))"
   ]
  },
  {
   "cell_type": "code",
   "execution_count": 16,
   "id": "85efcfb8",
   "metadata": {},
   "outputs": [
    {
     "name": "stdout",
     "output_type": "stream",
     "text": [
      "5\n"
     ]
    }
   ],
   "source": [
    "for i in range(1 ,30):\n",
    "    s = 15 * '3' + 18* '2' + i*'1'\n",
    "    while '31' in s or '33' in s or '21' in s:\n",
    "        if '31' in s: s = s.replace('31' ,'123' , 1)\n",
    "        if '33' in s:s = s.replace('33' ,'211' , 1)\n",
    "        if '21' in s:s = s.replace('21' ,'1' , 1)\n",
    "    if sum([int(i) for i in s]) >= 24:\n",
    "        print(i)\n",
    "        break\n",
    "        "
   ]
  },
  {
   "cell_type": "code",
   "execution_count": 17,
   "id": "f254142b",
   "metadata": {},
   "outputs": [
    {
     "name": "stdout",
     "output_type": "stream",
     "text": [
      "755\n"
     ]
    }
   ],
   "source": [
    "result = 0\n",
    "for x in range(10):\n",
    "    n1 = 13204 + x * 10 + 3\n",
    "    n2 = 13 ** 4 + 3 * 13 ** 3 + 4 * 13 ** 2 + x * 13 + 2\n",
    "    n = n1 - n2\n",
    "    if abs(n) % 30 == 0:\n",
    "        result = abs(n) // 30\n",
    "print(result)"
   ]
  },
  {
   "cell_type": "code",
   "execution_count": 18,
   "id": "8a201a23",
   "metadata": {},
   "outputs": [
    {
     "name": "stdout",
     "output_type": "stream",
     "text": [
      "139\n"
     ]
    }
   ],
   "source": [
    "for a in range(1 , 1000):\n",
    "    f = 1\n",
    "    for x in range(1 , 1000):\n",
    "        f *= (x + a >= 160 or ((x%7==0) <= (x-17 < 0)))\n",
    "    if f:\n",
    "        print(a)\n",
    "        break"
   ]
  },
  {
   "cell_type": "code",
   "execution_count": 20,
   "id": "0549b0f0",
   "metadata": {},
   "outputs": [
    {
     "name": "stdout",
     "output_type": "stream",
     "text": [
      "71991061\n"
     ]
    }
   ],
   "source": [
    "print((1_585_342_628 - 865_432_015)// 10)"
   ]
  },
  {
   "cell_type": "code",
   "execution_count": null,
   "id": "360dd4d5",
   "metadata": {},
   "outputs": [],
   "source": [
    "from functools import reduce\n",
    "f = open('17-360.txt')\n",
    "a = [int(i) for i in f]\n",
    "\n",
    "sum_all = reduce(lambda x,y: x + y, items)\n",
    " \n",
    "print (sum_all)\n",
    "a1 = max([i for i in a if reduce(lambda x,y: x * y, [int(j) for j in str(i)])[-2:] == '42'])\n",
    "print(a1)"
   ]
  }
 ],
 "metadata": {
  "kernelspec": {
   "display_name": "Python 3 (ipykernel)",
   "language": "python",
   "name": "python3"
  },
  "language_info": {
   "codemirror_mode": {
    "name": "ipython",
    "version": 3
   },
   "file_extension": ".py",
   "mimetype": "text/x-python",
   "name": "python",
   "nbconvert_exporter": "python",
   "pygments_lexer": "ipython3",
   "version": "3.10.8"
  }
 },
 "nbformat": 4,
 "nbformat_minor": 5
}
