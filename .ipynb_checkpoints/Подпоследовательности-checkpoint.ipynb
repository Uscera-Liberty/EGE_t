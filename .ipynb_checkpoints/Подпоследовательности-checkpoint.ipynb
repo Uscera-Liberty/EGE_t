{
 "cells": [
  {
   "cell_type": "code",
   "execution_count": null,
   "id": "31384421",
   "metadata": {},
   "outputs": [],
   "source": [
    "n = int(f.readline())\n",
    "count = 0\n",
    "k =[0]*67 #capasity of hvostiki with remains\n",
    "count = 0\n",
    "s = 0\n",
    "for i in range(n):\n",
    "    x = int(f.readline())\n",
    "    s += x\n",
    "    if s%67==0: count+=1\n",
    "    count += k[s%67]\n",
    "    k[s%67] += 1\n",
    "print(count)"
   ]
  },
  {
   "cell_type": "code",
   "execution_count": null,
   "id": "e56b442b",
   "metadata": {},
   "outputs": [],
   "source": [
    "n = int(f.readline())\n",
    "ms = 0\n",
    "m = [10**20]*100\n",
    "s = 0\n",
    "for i in range(n):\n",
    "    x = int(f.readline())\n",
    "    s += x\n",
    "    if s%100==0:ms = max(ms , s)\n",
    "    s1 = s - m[s%100]\n",
    "    ms = max(ms , s1)\n",
    "    m[s%100] = min(m[s%100] , s)\n",
    "print(ms)"
   ]
  },
  {
   "cell_type": "code",
   "execution_count": null,
   "id": "9303b12c",
   "metadata": {},
   "outputs": [],
   "source": [
    "n = int(f.readline())\n",
    "ms = s = k = 0\n",
    "m = [10**20]*7\n",
    "for i in range(n):\n",
    "    x = int(f.readline())\n",
    "    s += x\n",
    "    if x%11==0:k+=1\n",
    "    if k%7==0:ms = max(ms ,s)\n",
    "    s1 = s-m[k%7]\n",
    "    ms = max(ms, s1)\n",
    "    m[k%7] = min(m[k%7],s)\n",
    "print(ms)"
   ]
  },
  {
   "cell_type": "code",
   "execution_count": null,
   "id": "9bf6ca0a",
   "metadata": {},
   "outputs": [],
   "source": [
    "n = int(f.realdine())\n",
    "k = [0]*17\n",
    "count = k10 = 0\n",
    "for i in range(n):\n",
    "    x = int(f.readline())\n",
    "    if x%10==0:k10+=1\n",
    "    if k10%17==0:count +=1\n",
    "    count += k[k10%17]\n",
    "    k[k10%17] += 1\n",
    "print(count)"
   ]
  },
  {
   "cell_type": "code",
   "execution_count": null,
   "id": "a2bd44f8",
   "metadata": {},
   "outputs": [],
   "source": [
    "n = int(f.readline())\n",
    "ms = -10**20\n",
    "m = [[10**20]*25 ofr i in range(7)]\n",
    "s = k = 0\n",
    "for i in range(n):\n",
    "    x = int(f.readline())\n",
    "    s+=x\n",
    "    if x<0 and abs(x)%10==4: k+=1\n",
    "    if s%25==0 and k%7==0:ms=max(ms , s)\n",
    "    \n",
    "    s1 = s-m[k%7][s%25]\n",
    "    ms = max(ms , s1)\n",
    "    m[k%7][s%25] = min(m[k%7][s%25] , s)\n",
    "print(ms)"
   ]
  },
  {
   "cell_type": "code",
   "execution_count": null,
   "id": "fd53107f",
   "metadata": {},
   "outputs": [],
   "source": [
    "n = int(f.readline())\n",
    "ms = -10**20\n",
    "m = [10**20]*n\n",
    "s = k = 0\n",
    "for i in range(n):\n",
    "    x = int(f.readline())\n",
    "    s += x\n",
    "    if x <0 and abs(x)%10==3:k+=1\n",
    "    if k == 7:ms = max(ms,s)\n",
    "    s1 = s- m[k-7]\n",
    "    ms = max(ms,s1)\n",
    "    m[k] = min(m[k],s)\n",
    "print(ms)"
   ]
  },
  {
   "cell_type": "code",
   "execution_count": null,
   "id": "3a029100",
   "metadata": {},
   "outputs": [],
   "source": [
    "n = int(f.readline())\n",
    "ms = -10**20\n",
    "ml = 0\n",
    "m = [10**20]*89\n",
    "l = [0]*89\n",
    "s = 0\n",
    "for i in range(n):\n",
    "    x = int(f.readline())\n",
    "    s += x\n",
    "    if s%89:\n",
    "        if ms < s or s==ms and (i+1) < ml:\n",
    "            ms,ml = s,i+1\n",
    "    s1 = s - m[s%89]\n",
    "    l1 = (i+1) - l[s%89]\n",
    "    if s1 > ms or (s1==ms and l1 < ml):\n",
    "        ms,ml = s1,l1\n",
    "    if s<m[s%89]:m[s%89] , l[s%89] = s,i+1\n",
    "          \n",
    "print(ms)"
   ]
  },
  {
   "cell_type": "code",
   "execution_count": null,
   "id": "83d6fa84",
   "metadata": {},
   "outputs": [],
   "source": [
    "n = int(f.readline())\n",
    "q = []\n",
    "s = 0\n",
    "for i in range(9):\n",
    "    x = int(f.readline())\n",
    "    s += x\n",
    "    q.append(s)\n",
    "k= [0]*20\n",
    "count = 0\n",
    "for i in range(n-9):\n",
    "    x = int(f.readline())\n",
    "    s+=x\n",
    "    if s%20==0: count += 1\n",
    "    count += k[s%20]\n",
    "    \n",
    "    k[q[0]%20]+=1\n",
    "    q.pop(0)\n",
    "    q.append(s)\n",
    "print(count)"
   ]
  },
  {
   "cell_type": "code",
   "execution_count": null,
   "id": "48126778",
   "metadata": {},
   "outputs": [],
   "source": [
    "n = int(f.readline())\n",
    "q= []\n",
    "s,k10 = 0,0\n",
    "for i in range(4):\n",
    "    x = int(f.readline())\n",
    "    s+=x\n",
    "    if x < 0 and x%10==0 :k10+=1\n",
    "    q.append([s,k10])\n",
    "ms = -10**20\n",
    "m = [10**20]*3\n",
    "for i in range(n-4):\n",
    "    x = int(f.readline())\n",
    "    s+=x\n",
    "    if x<0 and x%10==0:k10+=1\n",
    "    if k10%3==0:ms==max(ms,s)\n",
    "    s1 = s - m[k10%3]\n",
    "    ms = max(ms,s1)\n",
    "    s0,k0 = q[0]\n",
    "    m[k0%3] = min(m[k0%3],s0)\n",
    "    q.pop(0)\n",
    "    q.append([s,k10])\n",
    "print(ms)"
   ]
  },
  {
   "cell_type": "code",
   "execution_count": null,
   "id": "dde9162d",
   "metadata": {},
   "outputs": [],
   "source": [
    "n = int(f.readline())\n"
   ]
  },
  {
   "cell_type": "code",
   "execution_count": null,
   "id": "7a2c5cdf",
   "metadata": {},
   "outputs": [],
   "source": []
  }
 ],
 "metadata": {
  "kernelspec": {
   "display_name": "Python 3 (ipykernel)",
   "language": "python",
   "name": "python3"
  },
  "language_info": {
   "codemirror_mode": {
    "name": "ipython",
    "version": 3
   },
   "file_extension": ".py",
   "mimetype": "text/x-python",
   "name": "python",
   "nbconvert_exporter": "python",
   "pygments_lexer": "ipython3",
   "version": "3.10.8"
  }
 },
 "nbformat": 4,
 "nbformat_minor": 5
}
