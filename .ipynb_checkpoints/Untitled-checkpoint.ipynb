{
 "cells": [
  {
   "cell_type": "markdown",
   "id": "2c6b050f",
   "metadata": {},
   "source": [
    "# Задания 27 на окружность + новое из стрима шастина и кабанова + задачи и дз\n",
    "\n",
    "## Надеюсь, эти задачи хоть кто-то поймет , в том числе и я."
   ]
  },
  {
   "cell_type": "markdown",
   "id": "8fb91fca",
   "metadata": {},
   "source": [
    "На каждом пункте расположены пункты питания + растояние м нужно перевозить , грузоподьемность сумки 6 кг"
   ]
  },
  {
   "cell_type": "code",
   "execution_count": null,
   "id": "4965e26b",
   "metadata": {},
   "outputs": [],
   "source": [
    "f = open('')\n",
    "n , m = map(int , f.readline().split())\n",
    "a = []\n",
    "for i in range(n):\n",
    "    k = int(f.readline())\n",
    "    c = k//6 if k%6 == 0 else k//6+1\n",
    "    a.append(c)\n",
    "    \n",
    "s = mx = sum(a[:2*m+1])\n",
    "\n",
    "for i in range(m+1 , n-m):\n",
    "    s = s - a[i-m-1] + a[i+m]\n",
    "    mx = max(mx , s)\n",
    "print(mx)"
   ]
  },
  {
   "cell_type": "code",
   "execution_count": null,
   "id": "a2c167c3",
   "metadata": {},
   "outputs": [],
   "source": [
    "+ кольцевая дорога с двустороним движением "
   ]
  },
  {
   "cell_type": "code",
   "execution_count": null,
   "id": "7a3b219c",
   "metadata": {},
   "outputs": [],
   "source": [
    "f = open()\n",
    "n,m = map(int , f.readline().split())\n",
    "a = []\n",
    "for i in range(n):\n",
    "    k = int(f.readline())\n",
    "    c = k//6 if k%6 == 0 else k//6+1\n",
    "# just dualize; чисто сводим задачу к линейной \n",
    "a = a*2\n",
    "s = mx =  sum(a[:2*m + 1])\n",
    "for i in range(m+1 , 2*n - m):\n",
    "    s = s - a[i] + a[i+m]\n",
    "    mx = max(mx , s)\n",
    "print(mx)"
   ]
  },
  {
   "cell_type": "markdown",
   "id": "b567babc",
   "metadata": {},
   "source": [
    "На автомагистрали н многоэтажных домой не более одного дома на километре дороги жители домов ежедневно получают почту которую доставляют роботы-почтальоны почта упакована в пакеты 9 кг "
   ]
  },
  {
   "cell_type": "code",
   "execution_count": null,
   "id": "7ae32b21",
   "metadata": {},
   "outputs": [],
   "source": [
    "f = open('27.txt')\n",
    "n , m = map(int , f.readline().split())\n",
    "a = []\n",
    "for i in range(n):\n",
    "    km , k = map(int , f.readline().split())\n",
    "    c = k//9 if k%9 == 0 else k//9 + 1\n",
    "    a.append([km ,c])\n",
    "b = [0] * 7000\n",
    "for i in range(n):\n",
    "    km , c = a[i]\n",
    "    b[km] = c\n",
    "mx = s = sum(b[:2*m+1])\n",
    "for i in range(m+1 , 7000-m):\n",
    "    s = s - b[i-m-1] - b[i+m]\n",
    "    if b[i] != 0: mx = max(s , mx)\n",
    "print(mx)"
   ]
  },
  {
   "cell_type": "code",
   "execution_count": null,
   "id": "7b51d334",
   "metadata": {},
   "outputs": [],
   "source": [
    "st = end = 0 \n",
    "s = a[0][1]\n",
    "while a[end+1][0] - a[0][0] <= m:\n",
    "    end += 1\n",
    "    s += a[end][1]\n",
    "for i in range(1 , n):\n",
    "    while end +1 != n and a[end+1][0] - a[i][0] <= m:\n",
    "        end += 1\n",
    "        s -= a[st][1]\n",
    "        st += 1\n",
    "    mx = max(mx , s)\n",
    "print(mx)"
   ]
  },
  {
   "cell_type": "code",
   "execution_count": null,
   "id": "462a40dc",
   "metadata": {},
   "outputs": [],
   "source": [
    "f = open()\n",
    "n , k , m = map(int , f.readline().split())\n",
    "a = []\n",
    "for i in range(n):\n",
    "    km , p = map(int , f.readline().split())\n",
    "    km = km%k\n",
    "    b[km] = c\n",
    "b = b*2\n",
    "s = mx = sum(b[:2*m+1])\n",
    "for i in range(m+1 , 2*m - k):\n",
    "    s = s-b[i-m-1] + b[i+m]\n",
    "    if b[i] >0 :\n",
    "        mx = max(mx , s)\n",
    "print(mx)"
   ]
  },
  {
   "cell_type": "code",
   "execution_count": null,
   "id": "ea75cc32",
   "metadata": {},
   "outputs": [],
   "source": [
    "a.sort()\n",
    "st = end = 0\n",
    "mx = 10**20\n",
    "for i in range(1 , n):\n",
    "    while a[end + 1][0] - a[i][0] <= m:\n",
    "        end += 1\n",
    "        s += a[end][1]\n",
    "    while a[i][0] - a[st][0] > m:\n",
    "        s -= a[st][1]\n",
    "        st += 2\n",
    "    mx = max(mx , s)\n",
    "print(mx)"
   ]
  },
  {
   "cell_type": "code",
   "execution_count": null,
   "id": "f1da9c31",
   "metadata": {},
   "outputs": [],
   "source": [
    "f = open()\n",
    "n = int(f.readline())\n",
    "a = []\n",
    "sm =0\n",
    "for i in range(n):\n",
    "    km ,p = map(int , f.readline().split())\n",
    "    c = p//36 if p%36==0 else p//36+1\n",
    "    a.append([km ,p])\n",
    "mx = s = 0\n",
    "s = 0\n",
    "for i in range(n):\n",
    "    expsv += a[i-1][1]\n",
    "    r = a[i][0] - a[i-1][0]\n",
    "    s = s+ r*expsv - r*(sm - expsv)\n",
    "    mx = max(mx , s)\n",
    "print(mx)\n",
    "    "
   ]
  },
  {
   "cell_type": "code",
   "execution_count": null,
   "id": "0fb0acc3",
   "metadata": {},
   "outputs": [],
   "source": [
    "f = open()\n",
    "n = int(f.readline())\n",
    "a = [int(x) for x in f]\n",
    "sm = sum(a)\n",
    "a = a*2\n",
    "s = 0\n",
    "for i in range(n):\n",
    "    s += 3*min(i , n-i)*a[i]\n",
    "mn = s\n",
    "cheaper = sum(a[1:n//2+1])\n",
    "for i in range(1 , n):\n",
    "    s = s - 3*cheaper + 3*(sm - cheaper)\n",
    "    mn = min(mn , s)\n",
    "    cheaper = cheaper - a[i] + a[n//2+i]\n",
    "print(mn)\n"
   ]
  },
  {
   "cell_type": "code",
   "execution_count": null,
   "id": "a763533a",
   "metadata": {},
   "outputs": [],
   "source": []
  }
 ],
 "metadata": {
  "kernelspec": {
   "display_name": "Python 3 (ipykernel)",
   "language": "python",
   "name": "python3"
  },
  "language_info": {
   "codemirror_mode": {
    "name": "ipython",
    "version": 3
   },
   "file_extension": ".py",
   "mimetype": "text/x-python",
   "name": "python",
   "nbconvert_exporter": "python",
   "pygments_lexer": "ipython3",
   "version": "3.10.8"
  }
 },
 "nbformat": 4,
 "nbformat_minor": 5
}
