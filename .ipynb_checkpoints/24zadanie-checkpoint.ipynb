{
 "cells": [
  {
   "cell_type": "markdown",
   "id": "349137ac",
   "metadata": {},
   "source": [
    "# задания 24 все прототипы"
   ]
  },
  {
   "cell_type": "markdown",
   "id": "b9e4ef29",
   "metadata": {},
   "source": [
    "237)(Е. Джобс) Текстовый файл 24-237.txt состоит не более чем из 106 символов и содержит только символы A, B, C, D, E, F. Найдите максимальную длину подстроки, которая состоит из подряд идущих троек одинаковых символов. Например, в строке BBCDDDEEEFGGGEEEDDDDK такая подстрока GGGEEEDDD. Следовательно, ответ в этом случае – 9."
   ]
  },
  {
   "cell_type": "code",
   "execution_count": null,
   "id": "ec03b7ab",
   "metadata": {},
   "outputs": [],
   "source": [
    "s = open('24.txt').readline()\n",
    "\n",
    "m = [0]*(len(s)+3)\n",
    "for i in range(len(s)):\n",
    "    if s[i:i+3] in {'AAA' ,'BBB' , 'CCC' ,'DDD' , 'EEE' , 'FFF'}:\n",
    "        mx[i+3] = max(mx[i+3] ,mx[i]+3)\n",
    "print(max(mx))"
   ]
  },
  {
   "cell_type": "markdown",
   "id": "08719224",
   "metadata": {},
   "source": [
    "165)Текстовый файл 24-164.txt состоит не более чем из 106 заглавных латинских букв (A..Z). Текст разбит на строки различной длины. Необходимо найти строку, содержащую самую длинную цепочку стоящих подряд одинаковых букв. Если таких строк несколько, надо взять ту, которая в файле встретилась раньше.  Определите, какая буква встречается в этой строке чаще всего. Если таких букв несколько, надо взять ту, которая стоит раньше в алфавите.  Запишите в ответе эту букву, а затем – сколько раз она встречается во всем файле.\n",
    "Пример. Исходный файл:\n",
    "ZZQABA\n",
    "ZALAAC\n",
    "QRAQUT\n",
    "В этом примере в первой и второй строках наибольшая длина цепочек одинаковых буквы равна 2 (ZZ в первой строке, AA во второй), в третьей – 1. Берём первую строку, т.к. она находится в файле раньше. В этой строке чаще других встречаются буквы Z и A (по 2 раза), выбираем букву A, т. к. она стоит раньше в алфавите. В ответе для этого примера надо записать A6, так как во всех строках файла буква A встречается 6 раз.\n"
   ]
  },
  {
   "cell_type": "code",
   "execution_count": null,
   "id": "817ef414",
   "metadata": {},
   "outputs": [],
   "source": [
    "ABC = 'ABCDEFGHIJKLMNOPQRSTUVWXYZ'\n",
    "with open(\"24-164.txt\") as F:\n",
    "  data = F.readlines()\n",
    "  maxK = 0\n",
    "  for s in data:\n",
    "    k, currK = 1, 1\n",
    "    for i in range(1,len(s)):\n",
    "      if s[i] == s[i-1]:\n",
    "        currK += 1\n",
    "        k = max(k, currK)\n",
    "      else:\n",
    "        currK = 1\n",
    "    if k > maxK:\n",
    "      maxK = k\n",
    "      ma, letterMax = 0, ''\n",
    "      for letter in ABC:\n",
    "        cnt = s.count(letter)\n",
    "        if cnt > ma:\n",
    "          ma, letterMax = cnt, letter\n",
    "\n",
    "print( letterMax,\n",
    "       sum(s.count(letterMax) for s in data))"
   ]
  },
  {
   "cell_type": "markdown",
   "id": "d2c61245",
   "metadata": {},
   "source": [
    "Текстовый файл 24-168.txt состоит не более чем из 106 заглавных латинских букв (A..Z). Определите наибольшую длину последовательности из трех различных символов, расположенных в порядке неубывания. Например, для строки AABBAABBCCDDDEFFGF искомая последовательность – BBCCDDD, её длина – 7."
   ]
  },
  {
   "cell_type": "code",
   "execution_count": null,
   "id": "c2031180",
   "metadata": {},
   "outputs": [],
   "source": [
    "s = open('24-168.txt').readline()\n",
    "x = y = z = m = 0\n",
    "for i in range(1,len(s)):\n",
    "  m = max(m,i-x)\n",
    "  if s[i-1]>s[i]:\n",
    "    x = y = z = i\n",
    "  elif s[i-1]<s[i]:\n",
    "    x,y,z = y,z,i\n",
    "print(m)\n"
   ]
  },
  {
   "cell_type": "markdown",
   "id": "d34125be",
   "metadata": {},
   "source": [
    "158)Текстовый файл 24-157.txt содержит только заглавные буквы латинского алфавита (ABC…Z). Определите символ, который чаще всего встречается в файле перед двумя одинаковыми символами. Например, в тексте CCBAABABBCCC есть комбинации BAA, ABB, BCC и CCC. Чаще всего – 2 раза – перед двумя одинаковыми символами стоит B, в ответе для этого случая надо написать B2 (без пробелов и других разделителей). Если таких символов несколько, выведите тот, который стоит раньше в алфавите."
   ]
  },
  {
   "cell_type": "code",
   "execution_count": null,
   "id": "a86bbab0",
   "metadata": {},
   "outputs": [],
   "source": [
    "s = open('24-157.txt').readline().strip()\n",
    "\n",
    "d = {x : 0 for x in sorted(set(s))}\n",
    "for i in range(len(s) - 2):\n",
    "    if s[i+1] == s[i+2]:\n",
    "        d[s[i]] += 1\n",
    "print(d)\n"
   ]
  },
  {
   "cell_type": "markdown",
   "id": "2c097206",
   "metadata": {},
   "source": [
    "163)Текстовый файл 24-s1.txt состоит не более чем из 106 заглавных латинских букв (A..Z). Текст разбит на строки различной длины. Необходимо найти строку, содержащую наибольшее количество пар соседних букв, которые стоят в таком же порядке и в алфавите (например, AB, BC, CD и т.д.; в цепочке ABC две таких пары). Если таких строк несколько, надо взять ту, которая в файле встретилась позже.  Определите, какая буква встречается в этой строке реже всего (но присутствует!). Если таких букв несколько, надо взять ту, которая стоит раньше в алфавите.  Запишите в ответе эту букву, а затем – сколько раз она встречается во всем файле.\n",
    "Пример. Исходный файл:\n",
    "ZCQABA\n",
    "ZALMAC\n",
    "CRACUT\n",
    "В этом примере в первой и второй строках по одной подходящей паре (AB и LM), в третьей таких пар нет. Берём вторую строку, т.к. она позже встречается в файле. В этой строке реже других встречаются буквы Z и C (по одному разу), выбираем букву С, т. к. она раньше стоит в алфавите. В ответе для этого примера надо записать C4, так как во всех строках файла буква C встречается 4 раза.\n"
   ]
  },
  {
   "cell_type": "code",
   "execution_count": null,
   "id": "74805d54",
   "metadata": {},
   "outputs": [],
   "source": [
    "ABC = 'ABCDEFGHIJKLMNOPQRSTUVWXYZ'\n",
    "with open(\"24-s1.txt\") as F:\n",
    "  data = F.readlines()\n",
    "  maxK = 0\n",
    "  for s in data:\n",
    "    k = 0\n",
    "    for i in range(len(s)-1):\n",
    "      if ord(s[i])+1 == ord(s[i+1]):\n",
    "        k += 1\n",
    "    if k >= maxK:\n",
    "      maxK = k\n",
    "      mi, letterMin = 10**10, ''\n",
    "      for letter in ABC:\n",
    "        cnt = s.count(letter)\n",
    "        if cnt > 0 and cnt < mi:\n",
    "          mi, letterMin = cnt, letter\n",
    "# можно сделать частотный словарь \n",
    "print(letterMin,\n",
    "       sum(s.count(letterMin) for s in data) )"
   ]
  },
  {
   "cell_type": "markdown",
   "id": "07aec153",
   "metadata": {},
   "source": [
    "117)(В.Н. Шубинкин, г. Казань) Текстовый файл 24-4.txt содержит последовательность из строчных и заглавных букв английского алфавита и цифр, всего не более 106 символов. Запишите в ответе наибольшую убывающую подпоследовательность. Если таких последовательностей несколько, запишите первую из них."
   ]
  },
  {
   "cell_type": "code",
   "execution_count": null,
   "id": "0cef1c16",
   "metadata": {},
   "outputs": [],
   "source": [
    "with open(r'24.txt', 'r') as f:\n",
    "    text = f.read()\n",
    " \n",
    "maxx = ''\n",
    "temp = text[0]\n",
    "for i in range(1, len(text)):\n",
    "    if ord(text[i])<ord(text[i-1]):\n",
    "        temp += text[i]\n",
    "        if len(temp)>len(maxx):\n",
    "            maxx = temp\n",
    "    else:\n",
    "        temp = text[i]\n",
    " \n",
    "print(maxx)"
   ]
  },
  {
   "cell_type": "markdown",
   "id": "ed3c172e",
   "metadata": {},
   "source": [
    "89)(П.Е. Финкель, г. Тимашевск) Текстовый файл 24-1.txt состоит не более чем из 106 символов. Определите максимальное чётное число, записанное в этом файле."
   ]
  },
  {
   "cell_type": "code",
   "execution_count": null,
   "id": "ca8849db",
   "metadata": {},
   "outputs": [],
   "source": [
    " a=[] \n",
    " ch='' \n",
    " for el in s: \n",
    "     if el.isnumeric(): \n",
    "         ch+=el \n",
    "         if int(el)%2==0: \n",
    "             a.append(int(ch)) \n",
    "     else: \n",
    "         ch='' \n",
    "  \n",
    " print(max(a)) "
   ]
  },
  {
   "cell_type": "markdown",
   "id": "8970f105",
   "metadata": {},
   "source": [
    "239)(Е. Джобс) Текстовый файл 24-239.txt состоит не более чем из 106 символов и содержит только латинские буквы X, Y, Z. Найдите максимальную длину подстроки, которая состоит из сочетаний XY, YZ, YZZ, записанных в произвольном порядке. В ответе укажите наибольшую длину подходящей подстроки. Например, в строке ZZXZXZZXYYZYZZYYY самая длинная подходящая подстрока – XYYZYZZ имеет длину 7. "
   ]
  },
  {
   "cell_type": "code",
   "execution_count": null,
   "id": "3f135d53",
   "metadata": {},
   "outputs": [],
   "source": [
    "s = open('24-239.txt').readline()\n",
    "mx = c = i = 0\n",
    "while i < len(s):\n",
    "    if 'YZZ' == s[i:i+3]:\n",
    "        c+= 3\n",
    "        i+=2\n",
    "    elif 'XY' == s[i:i+2]:\n",
    "        c+=2\n",
    "        i+=1\n",
    "    elif 'YZ' == s[i:i+2]:\n",
    "        c+=2\n",
    "        i+=1\n",
    "    elif 'YZ' == s[i-1:i+1]:\n",
    "        c = 2\n",
    "    elif 'YZZ' == s[i-1:i+2]:\n",
    "        c = 3\n",
    "    else:\n",
    "        c = 0\n",
    "    i += 1\n",
    "    mx = max(mx , c)\n",
    "print(mx)\n"
   ]
  },
  {
   "cell_type": "markdown",
   "id": "d6772a6c",
   "metadata": {},
   "source": [
    "234)(Д. Статный) Текстовый файл 24-234.txt состоит не более чем из 106 десятичных цифр. Определите такое максимальное число, не превышающее 10** 6, в котором сумма всех цифр, возведенных в степень, равную длине числа, равна самому числу. В ответе укажите количество повторений этого числа в файле."
   ]
  },
  {
   "cell_type": "code",
   "execution_count": null,
   "id": "de0be768",
   "metadata": {},
   "outputs": [],
   "source": [
    "s = open('24-234.txt').readline()\n",
    "\n",
    "def sumDigitsL( n ):\n",
    "  L = len(n)\n",
    "  sumL = sum( int(c)**L for c in n )\n",
    "  return sumL\n",
    "\n",
    "selected = []\n",
    "for i in range(10,1000000):\n",
    "  if sumDigitsL(str(i)) == i:\n",
    "    selected.append( i )\n",
    "\n",
    "for num in selected[::-1]:\n",
    "  if str(num) in s:\n",
    "    print( num, s.count(str(num)) )"
   ]
  },
  {
   "cell_type": "markdown",
   "id": "aa0d5812",
   "metadata": {},
   "source": [
    "224)Текстовый файл 24-224.txt содержит строку из символов A, B и C, всего не более чем 106 символов. Найдите максимальную длину строки, состоящей только из комбинаций BAC и СAB. Например, в строке BABABACCABCABCB такая подстрока BACCABCAB (длина 9)."
   ]
  },
  {
   "cell_type": "code",
   "execution_count": null,
   "id": "ebd58487",
   "metadata": {},
   "outputs": [],
   "source": [
    "s = open('24-224.txt').readline()\n",
    "\n",
    "while 'BACAB' in s:\n",
    "  s = s.replace( 'BACAB', 'BAC CAB' )\n",
    "while 'CABAC' in s:\n",
    "  s = s.replace( 'CABAC', 'CAB BAC' )\n",
    "\n",
    "s = s.replace('BAC', '.')\n",
    "s = s.replace('CAB', ',')\n",
    "\n",
    "maxLen = L = 0\n",
    "for i, ch in enumerate(s):\n",
    "  if ch in '.,':\n",
    "    L += 3\n",
    "    maxLen = max( maxLen, L )\n",
    "  else:\n",
    "    L = 0\n",
    "\n",
    "print( maxLen )\n"
   ]
  },
  {
   "cell_type": "markdown",
   "id": "81b27957",
   "metadata": {},
   "source": [
    "225)(П. Финкель) Текстовый файл 24-225.txt состоит не более чем из 106 символов и содержит буквы английского алфавита и цифры. Определите максимальное число в этом файле, ограниченное двумя парами символов FF и удовлетворяющее маске «44??78???3», где символ ? обозначает любую цифру. Пример такого числа: 4434781233. Найдите сумму чётных цифр найденного числа. "
   ]
  },
  {
   "cell_type": "code",
   "execution_count": null,
   "id": "ab3cafb3",
   "metadata": {},
   "outputs": [],
   "source": [
    "from fnmatch import *\n",
    "mxch = 0\n",
    "s = open('24-225.txt').readline().split('FF')\n",
    "print(s[:100])\n",
    "for i in s:\n",
    "    if fnmatch(str(i) , '44??78???3'):\n",
    "        mxch = max(mxch , int(i))\n",
    "print(mxch)"
   ]
  },
  {
   "cell_type": "markdown",
   "id": "a3a8666a",
   "metadata": {},
   "source": [
    "строка из dbac "
   ]
  },
  {
   "cell_type": "code",
   "execution_count": null,
   "id": "447b9761",
   "metadata": {},
   "outputs": [],
   "source": [
    "s = open('24.txt').readline()\n",
    "sub = 'DBAC'\n",
    "while sub in s:sub += 'DBAC'\n",
    "while sub not in s: sub = sub[:-1]\n",
    "print(len(sub))"
   ]
  },
  {
   "cell_type": "markdown",
   "id": "b17fd3b0",
   "metadata": {},
   "source": [
    "222)(Е. Джобс) Текстовый файл 24-222.txt содержит строку из символов A, B, C, D, E и F, всего не более чем 106 символов. Найдите максимальную длину строки вида А*А*А*А, где между буквами А расположены одинаковые группы символов, не содержащие букв А. Например, в строке BDADBADBADBABDAFABDA такая подстрока ADBADBADBA (длина 10)."
   ]
  },
  {
   "cell_type": "code",
   "execution_count": null,
   "id": "6594cf74",
   "metadata": {},
   "outputs": [],
   "source": [
    "s = open('24-222.txt').readline().strip()\n",
    "w = s.split('A')[1:-1]\n",
    "mx = 0\n",
    "for a, b, c in zip(w, w[1:], w[2:]):\n",
    "    if a == b == c:\n",
    "        mx = max(mx, len('A'+a+'A'+b+'A'+c+'A'))\n",
    "print(mx)"
   ]
  },
  {
   "cell_type": "code",
   "execution_count": null,
   "id": "f02f2ca8",
   "metadata": {},
   "outputs": [],
   "source": []
  },
  {
   "cell_type": "code",
   "execution_count": null,
   "id": "e4b1e597",
   "metadata": {},
   "outputs": [],
   "source": []
  }
 ],
 "metadata": {
  "kernelspec": {
   "display_name": "Python 3 (ipykernel)",
   "language": "python",
   "name": "python3"
  },
  "language_info": {
   "codemirror_mode": {
    "name": "ipython",
    "version": 3
   },
   "file_extension": ".py",
   "mimetype": "text/x-python",
   "name": "python",
   "nbconvert_exporter": "python",
   "pygments_lexer": "ipython3",
   "version": "3.10.8"
  }
 },
 "nbformat": 4,
 "nbformat_minor": 5
}
