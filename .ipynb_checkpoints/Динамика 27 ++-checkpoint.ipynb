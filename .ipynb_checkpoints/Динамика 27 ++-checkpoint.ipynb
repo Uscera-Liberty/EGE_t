{
 "cells": [
  {
   "cell_type": "code",
   "execution_count": null,
   "id": "669bf2eb",
   "metadata": {},
   "outputs": [],
   "source": [
    "f = open('27')\n",
    "n = int(f.readline())\n",
    "count = 0\n",
    "k = k7 = 0\n",
    "for i in range(n):\n",
    "    x = int(f.realdine())\n",
    "    if x%7==0:count += k\n",
    "    if x%7!=0:count += k7\n",
    "    k+=1\n",
    "    if x%7 == 0:k7+=1\n",
    "print(count)"
   ]
  },
  {
   "cell_type": "code",
   "execution_count": null,
   "id": "9fd8e7a5",
   "metadata": {},
   "outputs": [],
   "source": [
    "f = open('27A.txt')\n",
    "n = int(f.readline())\n",
    "k0 = k50 = k51 = k1 = 0\n",
    "count = 0\n",
    "for _ in range(n):\n",
    "    x = int(f.readline())\n",
    "    if x%5==0 and x%2 == 0 :count += k1\n",
    "    elif x%5==0 and x%2 != 0: count += k0\n",
    "    elif x%5!=0 and x%2 == 0 :count += k51\n",
    "    elif x%5!=0 and x%2 != 0: count += k50\n",
    "\n",
    "    if x%5==0 and x%2 == 0: k50 += 1\n",
    "    elif x%5==0 and x%2 != 0: k51 += 1\n",
    "    elif x%5!=0 and x%2 == 0: k0 += 1\n",
    "    elif x%5!=0 and x%2 != 0: k1+= 1\n",
    "print(count)\n",
    "    "
   ]
  },
  {
   "cell_type": "code",
   "execution_count": null,
   "id": "5ed4006e",
   "metadata": {},
   "outputs": [],
   "source": [
    "f = open('27')\n",
    "n = int(f.readline())\n",
    "ms = 0\n",
    "m = [0]*100\n",
    "for i in range(n):\n",
    "    x = int(f.readline())\n",
    "    ost =  12 - x%100 if x%100 <=12 else 112 - x%100\n",
    "    if m[ost] >= x and x+m[ost] >= ms:\n",
    "        ms = x+m[ost]\n",
    "    m[x%100] = max(m[x%100] , x)\n",
    "print(ms)"
   ]
  },
  {
   "cell_type": "code",
   "execution_count": null,
   "id": "c647be05",
   "metadata": {},
   "outputs": [],
   "source": [
    "f = open('27')\n",
    "mx = [0]*137\n",
    "mn = [10**20]*137\n",
    "q = [int(f.readline()) for _ in range(4)]\n",
    "mr = 0\n",
    "for i in range(n-4):\n",
    "    if mx[x%137] != 0:mr = max(abs(x - mx[x%137]) , mr)\n",
    "    if mn[x%137] != 0:mr = max(abs(x - mn[x%137]) , mr)\n",
    "    \n",
    "    mx[q[0]%137] = max(mx[q[0]%137] , q[0])\n",
    "    mn[q[0]%137] = min(mn[q[0]%137] , q[0])\n",
    "    \n",
    "    q.append(x)\n",
    "    q.pop(0)\n",
    "print(mr)\n",
    "    "
   ]
  },
  {
   "cell_type": "markdown",
   "id": "60cf9329",
   "metadata": {},
   "source": [
    "## задача с очередью == расстояние между числами"
   ]
  },
  {
   "cell_type": "code",
   "execution_count": null,
   "id": "800957fa",
   "metadata": {},
   "outputs": [],
   "source": []
  }
 ],
 "metadata": {
  "kernelspec": {
   "display_name": "Python 3 (ipykernel)",
   "language": "python",
   "name": "python3"
  },
  "language_info": {
   "codemirror_mode": {
    "name": "ipython",
    "version": 3
   },
   "file_extension": ".py",
   "mimetype": "text/x-python",
   "name": "python",
   "nbconvert_exporter": "python",
   "pygments_lexer": "ipython3",
   "version": "3.10.8"
  }
 },
 "nbformat": 4,
 "nbformat_minor": 5
}
