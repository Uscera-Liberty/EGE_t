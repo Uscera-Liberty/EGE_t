{
 "cells": [
  {
   "cell_type": "code",
   "execution_count": null,
   "id": "669bf2eb",
   "metadata": {},
   "outputs": [],
   "source": [
    "f = open('27')\n",
    "n = int(f.readline())\n",
    "count = 0\n",
    "k = k7 = 0\n",
    "for i in range(n):\n",
    "    x = int(f.realdine())\n",
    "    if x%7==0:count += k\n",
    "    if x%7!=0:count += k7\n",
    "    k+=1\n",
    "    if x%7 == 0:k7+=1\n",
    "print(count)"
   ]
  },
  {
   "cell_type": "code",
   "execution_count": null,
   "id": "374d8817",
   "metadata": {},
   "outputs": [],
   "source": [
    "n = int(f.readline())\n",
    "k , k3 , k5 , k15 = 0 ,0,0,0\n",
    "for i in range(n):\n",
    "    x = int(f.realdine())\n",
    "    if x%15==0:count+=k\n",
    "    elif x%5==0:count+=k3\n",
    "    elif x%3==0:count+=k5\n",
    "    else:count+=k15\n",
    "    k+=1\n",
    "    if x%3==0:k3 += 1\n",
    "    if x%5==0:k5 += 1\n",
    "    if x%15==0:k15 += 1\n",
    "print(count)"
   ]
  },
  {
   "cell_type": "code",
   "execution_count": null,
   "id": "8999dc27",
   "metadata": {},
   "outputs": [],
   "source": [
    "n = int(f.readline())\n",
    "count = 0\n",
    "k = [0]*127\n",
    "for i in range(n):\n",
    "    x = int(f.readline())\n",
    "    ost = 0 if x%127==0 else 127-x%127\n",
    "    count += k[ost]\n",
    "    k[x%127] += 1\n",
    "print(count)"
   ]
  },
  {
   "cell_type": "code",
   "execution_count": null,
   "id": "6063c237",
   "metadata": {},
   "outputs": [],
   "source": [
    "n = int(f.readline())\n",
    "m = -10**20\n",
    "k = [-10**20]*107\n",
    "for i in range(n):\n",
    "    x = int(f.readline())\n",
    "    ost = 0 if x%107==0 else 107-x%107\n",
    "    m = max(x + k[ost] ,m)\n",
    "    k[x%107] = max(x ,k[x%107])\n",
    "print(m)"
   ]
  },
  {
   "cell_type": "code",
   "execution_count": null,
   "id": "cc327d62",
   "metadata": {},
   "outputs": [],
   "source": [
    "n = int(f.readline())\n",
    "ms = 10**20\n",
    "m = 10**20#минимальное предыдущее число\n",
    "m17 = 10**20#минимальное предыдущее кратное 17\n",
    "for i in range(n):\n",
    "    x = int(f.readline())\n",
    "    if x%17 == 0:ms = min(x+m , ms)\n",
    "    else: ms = min(x+m17 , ms)\n",
    "    m = min(x , m)\n",
    "    if x%17==0:m17 = min(x ,m17)\n",
    "print(ms)"
   ]
  },
  {
   "cell_type": "code",
   "execution_count": null,
   "id": "7951b09a",
   "metadata": {},
   "outputs": [],
   "source": [
    "#первый больше второго , кратную 350, максимальную сумму пары\n",
    "n = int(f.readline())\n",
    "a = [int(i) for i in f]\n",
    "ms = -10**20\n",
    "m = [-10**20]*350\n",
    "for i in range(n):\n",
    "    x = int(f.readline())\n",
    "    ost = 0 if x%350==0 else 350-x%350\n",
    "    if m[ost] > x:ms = max(ms , m[ost]+x)\n",
    "    m[x%350] = max(m[x%350],x)\n",
    "print(ms)"
   ]
  },
  {
   "cell_type": "code",
   "execution_count": null,
   "id": "9fd8e7a5",
   "metadata": {},
   "outputs": [],
   "source": [
    "f = open('27A.txt')\n",
    "n = int(f.readline())\n",
    "k0 = k50 = k51 = k1 = 0\n",
    "count = 0\n",
    "for _ in range(n):\n",
    "    x = int(f.readline())\n",
    "    if x%5==0 and x%2 == 0 :count += k1\n",
    "    elif x%5==0 and x%2 != 0: count += k0\n",
    "    elif x%5!=0 and x%2 == 0 :count += k51\n",
    "    elif x%5!=0 and x%2 != 0: count += k50\n",
    "\n",
    "    if x%5==0 and x%2 == 0: k50 += 1\n",
    "    elif x%5==0 and x%2 != 0: k51 += 1\n",
    "    elif x%5!=0 and x%2 == 0: k0 += 1\n",
    "    elif x%5!=0 and x%2 != 0: k1+= 1\n",
    "print(count)\n",
    "    "
   ]
  },
  {
   "cell_type": "code",
   "execution_count": null,
   "id": "5ed4006e",
   "metadata": {},
   "outputs": [],
   "source": [
    "f = open('27')\n",
    "n = int(f.readline())\n",
    "ms = 0\n",
    "m = [0]*100\n",
    "for i in range(n):\n",
    "    x = int(f.readline())\n",
    "    ost =  12 - x%100 if x%100 <=12 else 112 - x%100\n",
    "    if m[ost] >= x and x+m[ost] >= ms:\n",
    "        ms = x+m[ost]\n",
    "    m[x%100] = max(m[x%100] , x)\n",
    "print(ms)"
   ]
  },
  {
   "cell_type": "code",
   "execution_count": null,
   "id": "c647be05",
   "metadata": {},
   "outputs": [],
   "source": [
    "f = open('27')\n",
    "mx = [0]*137\n",
    "mn = [10**20]*137\n",
    "q = [int(f.readline()) for _ in range(4)]\n",
    "mr = 0\n",
    "for i in range(n-4):\n",
    "    if mx[x%137] != 0:mr = max(abs(x - mx[x%137]) , mr)\n",
    "    if mn[x%137] != 0:mr = max(abs(x - mn[x%137]) , mr)\n",
    "    \n",
    "    mx[q[0]%137] = max(mx[q[0]%137] , q[0])\n",
    "    mn[q[0]%137] = min(mn[q[0]%137] , q[0])\n",
    "    \n",
    "    q.append(x)\n",
    "    q.pop(0)\n",
    "print(mr)\n",
    "    "
   ]
  },
  {
   "cell_type": "markdown",
   "id": "60cf9329",
   "metadata": {},
   "source": [
    "## задача с очередью == расстояние между числами"
   ]
  },
  {
   "cell_type": "code",
   "execution_count": null,
   "id": "800957fa",
   "metadata": {},
   "outputs": [],
   "source": [
    "#расстояние не менее 8 разность кратна 999 количество пар\n",
    "n = int(f.readline())\n",
    "k = 0\n",
    "a =[int(x) for x in f]\n",
    "q = [int(f.readline()) for i in range(7)]\n",
    "count = 0\n",
    "k = [0]*999\n",
    "for i in range(n - 7):\n",
    "    x = int(f.readline())\n",
    "    count += k[x%999]\n",
    "    \n",
    "    k[q[0]%999]+=1\n",
    "    q.append(x)\n",
    "    q.pop(0)\n",
    "print(count)"
   ]
  },
  {
   "cell_type": "code",
   "execution_count": null,
   "id": "babd7738",
   "metadata": {},
   "outputs": [],
   "source": [
    "#расстояние не менее 11 макс четная сумма пары кратная 567\n",
    "n = int(f.readline())\n",
    "q = [int(f.readline()) for i in range(7)]\n",
    "m = [[-10**20]*567 for i in range(2)] #максимальные четные\\нечетные с остатком\n",
    "ms =-10**20\n",
    "for i in range(n-10):\n",
    "    x = int(f.readline())\n",
    "    ost = 0 if x%567==0 else 567 - x%567\n",
    "    ms = max(m[x%2][ost] + x , ms)\n",
    "print(ms)"
   ]
  },
  {
   "cell_type": "code",
   "execution_count": null,
   "id": "86a78792",
   "metadata": {},
   "outputs": [],
   "source": [
    "#расстояние не более 7 кол-во пар кратно 24\n",
    "n = int(f.readline())\n",
    "a = [int(x) for x in f]\n",
    "k = 0\n",
    "for i in range(n):\n",
    "    for j in range(i+1 , n):\n",
    "        if j-i>7:break\n",
    "        if (a[i] + a[j])%24==0:\n",
    "            k+=1\n",
    "print(k)"
   ]
  },
  {
   "cell_type": "code",
   "execution_count": null,
   "id": "adfc3158",
   "metadata": {},
   "outputs": [],
   "source": [
    "n = int(f.readline())\n",
    "q = [int(f.readline()) for i in range(7)]\n",
    "count = 0\n",
    "k = [0]*24\n",
    "for i in range(n-6):\n",
    "    x = int(f.readline())\n",
    "    for j in range(24):\n",
    "        if (x*j)%24==0:count += k[j]\n",
    "    k[q[0][]]"
   ]
  }
 ],
 "metadata": {
  "kernelspec": {
   "display_name": "Python 3 (ipykernel)",
   "language": "python",
   "name": "python3"
  },
  "language_info": {
   "codemirror_mode": {
    "name": "ipython",
    "version": 3
   },
   "file_extension": ".py",
   "mimetype": "text/x-python",
   "name": "python",
   "nbconvert_exporter": "python",
   "pygments_lexer": "ipython3",
   "version": "3.10.8"
  }
 },
 "nbformat": 4,
 "nbformat_minor": 5
}
