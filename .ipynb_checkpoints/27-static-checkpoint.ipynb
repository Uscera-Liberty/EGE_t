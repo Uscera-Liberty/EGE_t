{
 "cells": [
  {
   "cell_type": "markdown",
   "id": "bd1bbac5",
   "metadata": {},
   "source": [
    "## Статичные решения : собираем инфу за один проход , а после вычисляем значение по формуле"
   ]
  },
  {
   "cell_type": "markdown",
   "id": "62d3b536",
   "metadata": {},
   "source": [
    "Количество пар чисел , с четной суммой "
   ]
  },
  {
   "cell_type": "code",
   "execution_count": null,
   "id": "cdde38fd",
   "metadata": {},
   "outputs": [],
   "source": [
    "#k0 - четные k1 - нечетные\n",
    "#количеcтво пар четных\n",
    "for i in range(n):\n",
    "    x = int(f.readline())\n",
    "    if x%2==0:k0+=1\n",
    "    else: k1 += 1\n",
    "print(k0*(k0-1)/2 + k1*(k1-1)/2)"
   ]
  },
  {
   "cell_type": "markdown",
   "id": "26c89bf7",
   "metadata": {},
   "source": [
    "Количество пар ,кратных 11"
   ]
  },
  {
   "cell_type": "code",
   "execution_count": null,
   "id": "b6c045b0",
   "metadata": {},
   "outputs": [],
   "source": [
    "#кратных 11 --> 11 * 11 или 11* некратные 11\n",
    "for i in range(n):\n",
    "    x = int(f.readline())\n",
    "    if x%11==0:k11+=1\n",
    "    else: k += 1\n",
    "print(k11*(k11-1)/2 + k*k11)"
   ]
  },
  {
   "cell_type": "code",
   "execution_count": null,
   "id": "2e71d48f",
   "metadata": {},
   "outputs": [],
   "source": [
    "for i in range(n):\n",
    "    x = int(f.readline())\n",
    "    if x%26==0:k26+=1\n",
    "    elif x%2 == 0: k2 += 1\n",
    "    elif x%13 == 0: k13 += 1\n",
    "    else:k+=1\n",
    "print(k26*(k26-1)/ /2 + k26*k + k2*k13)"
   ]
  },
  {
   "cell_type": "markdown",
   "id": "a668daa6",
   "metadata": {},
   "source": [
    "Количество пар элементов, произвдение кратно 17 ,а сумма четна"
   ]
  },
  {
   "cell_type": "code",
   "execution_count": null,
   "id": "a1d071ea",
   "metadata": {},
   "outputs": [],
   "source": [
    "k17_0 = k17_1 = k_0 = k_1 = 0\n",
    "for i in range(n):\n",
    "    x = int(f.readline())\n",
    "    if x%17==0 and x%2 == 0:k17_0 += 1\n",
    "    elif x%17==0 and x%2 == 1: k2 += 1\n",
    "    elif x%2 == 0: k_0+=1\n",
    "    elif x%2 == 1: k_1+=1\n",
    "print(k17_0*(k17_0-1)//2 + k17_1(k17_1-1)//2 + k17_0*k_0 + k17_1*k_1)"
   ]
  },
  {
   "cell_type": "markdown",
   "id": "4fefd0ba",
   "metadata": {},
   "source": [
    "Количество пар элементов , сумма\\разность которых кратна 100"
   ]
  },
  {
   "cell_type": "code",
   "execution_count": null,
   "id": "e98b3517",
   "metadata": {},
   "outputs": [],
   "source": [
    "#сумма\n",
    "for i in range(n):\n",
    "    x =int(f.readline())\n",
    "    ost = x%100\n",
    "    k[ost] += 1\n",
    "count = k[0]*(k[0] - 1)//2 + k[50]*(k[50]-1)//2\n",
    "for i in range(1 , 50):\n",
    "    count += k[i]*k[100-i]\n",
    "print(count)"
   ]
  },
  {
   "cell_type": "code",
   "execution_count": null,
   "id": "c281371f",
   "metadata": {},
   "outputs": [],
   "source": [
    "#разность --> остатки должны быть одинаковыми\\чтобы делилось на 100\n",
    "for i in range(n):\n",
    "    x =int(f.readline())\n",
    "    ost = x%100\n",
    "    k[ost] += 1\n",
    "count = 0\n",
    "for i in range(1 , 100):\n",
    "    count += k[i]*(k[i]-1)//2\n",
    "print(count)"
   ]
  },
  {
   "cell_type": "markdown",
   "id": "8d06a7ed",
   "metadata": {},
   "source": [
    "Количество пар элементов , сумма которых равна 69 и ровно один из них делится на 7"
   ]
  },
  {
   "cell_type": "code",
   "execution_count": null,
   "id": "de256586",
   "metadata": {},
   "outputs": [],
   "source": [
    "k = [0]*69\n",
    "k7 = [0]*69\n",
    "for i in range(n):\n",
    "    x =int(f.readline())\n",
    "    ost = x%69\n",
    "    if x%7 == 0: k7[ost] += 1\n",
    "    else: k[ost] += 1\n",
    "        \n",
    "count = k[0]*k7[0]\n",
    "for i in range(1 , 68):\n",
    "    count += k[i]*k7[69-i]\n",
    "print(count)"
   ]
  },
  {
   "cell_type": "code",
   "execution_count": null,
   "id": "e3870d60",
   "metadata": {},
   "outputs": [],
   "source": []
  },
  {
   "cell_type": "code",
   "execution_count": null,
   "id": "2e73c5b0",
   "metadata": {},
   "outputs": [],
   "source": []
  },
  {
   "cell_type": "code",
   "execution_count": null,
   "id": "5823c142",
   "metadata": {},
   "outputs": [],
   "source": []
  },
  {
   "cell_type": "code",
   "execution_count": null,
   "id": "a5e46b30",
   "metadata": {},
   "outputs": [],
   "source": []
  },
  {
   "cell_type": "code",
   "execution_count": null,
   "id": "4b83ace0",
   "metadata": {},
   "outputs": [],
   "source": []
  }
 ],
 "metadata": {
  "kernelspec": {
   "display_name": "Python 3 (ipykernel)",
   "language": "python",
   "name": "python3"
  },
  "language_info": {
   "codemirror_mode": {
    "name": "ipython",
    "version": 3
   },
   "file_extension": ".py",
   "mimetype": "text/x-python",
   "name": "python",
   "nbconvert_exporter": "python",
   "pygments_lexer": "ipython3",
   "version": "3.10.8"
  }
 },
 "nbformat": 4,
 "nbformat_minor": 5
}
