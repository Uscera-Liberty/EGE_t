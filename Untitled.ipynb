{
 "cells": [
  {
   "cell_type": "markdown",
   "id": "2c6b050f",
   "metadata": {},
   "source": [
    "# Задания 27 на окружность + новое из стрима шастина и кабанова + задачи и дз\n",
    "\n",
    "## Надеюсь, эти задачи хоть кто-то поймет , в том числе и я."
   ]
  },
  {
   "cell_type": "code",
   "execution_count": null,
   "id": "4965e26b",
   "metadata": {},
   "outputs": [],
   "source": []
  }
 ],
 "metadata": {
  "kernelspec": {
   "display_name": "Python 3 (ipykernel)",
   "language": "python",
   "name": "python3"
  },
  "language_info": {
   "codemirror_mode": {
    "name": "ipython",
    "version": 3
   },
   "file_extension": ".py",
   "mimetype": "text/x-python",
   "name": "python",
   "nbconvert_exporter": "python",
   "pygments_lexer": "ipython3",
   "version": "3.10.8"
  }
 },
 "nbformat": 4,
 "nbformat_minor": 5
}
