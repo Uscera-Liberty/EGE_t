{
 "cells": [
  {
   "cell_type": "markdown",
   "id": "2c6b050f",
   "metadata": {},
   "source": [
    "# Задания 27 на окружность + новое из стрима шастина и кабанова + задачи и дз\n",
    "\n",
    "## Надеюсь, эти задачи хоть кто-то поймет , в том числе и я."
   ]
  },
  {
   "cell_type": "markdown",
   "id": "8fb91fca",
   "metadata": {},
   "source": [
    "На каждом пункте расположены пункты питания + растояние м нужно перевозить , грузоподьемность сумки 6 кг"
   ]
  },
  {
   "cell_type": "code",
   "execution_count": null,
   "id": "4965e26b",
   "metadata": {},
   "outputs": [],
   "source": [
    "f = open('')\n",
    "n , m = map(int , f.readline().split())\n",
    "a = []\n",
    "for i in range(n):\n",
    "    k = int(f.readline())\n",
    "    c = k//6 if k%6 == 0 else k//6+1\n",
    "    a.append(c)\n",
    "    \n",
    "s = mx = sum(a[:2*m+1])\n",
    "\n",
    "for i in range(m+1 , n-m):\n",
    "    s = s - a[i-m-1] + a[i+m]\n",
    "    mx = max(mx , s)\n",
    "print(mx)"
   ]
  },
  {
   "cell_type": "code",
   "execution_count": null,
   "id": "a2c167c3",
   "metadata": {},
   "outputs": [],
   "source": [
    "+ кольцевая дорога с двустороним движением "
   ]
  },
  {
   "cell_type": "code",
   "execution_count": null,
   "id": "7a3b219c",
   "metadata": {},
   "outputs": [],
   "source": [
    "f = open()\n",
    "n,m = map(int , f.readline().split())\n",
    "a = []\n",
    "for i in range(n):\n",
    "    k = int(f.readline())\n",
    "    c = k//6 if k%6 == 0 else k//6+1\n",
    "# just dualize; чисто сводим задачу к линейной \n",
    "a = a*2\n",
    "s = mx =  sum(a[:2*m + 1])\n",
    "for i in range(m+1 , 2*n - m):\n",
    "    s = s - a[i] + a[i+m]\n",
    "    mx = max(mx , s)\n",
    "print(mx)"
   ]
  },
  {
   "cell_type": "markdown",
   "id": "b567babc",
   "metadata": {},
   "source": [
    "На автомагистрали н многоэтажных домой не более одного дома на километре дороги жители домов ежедневно получают почту которую доставляют роботы-почтальоны почта упакована в пакеты 9 кг "
   ]
  },
  {
   "cell_type": "code",
   "execution_count": null,
   "id": "7ae32b21",
   "metadata": {},
   "outputs": [],
   "source": []
  },
  {
   "cell_type": "code",
   "execution_count": null,
   "id": "7b51d334",
   "metadata": {},
   "outputs": [],
   "source": []
  },
  {
   "cell_type": "code",
   "execution_count": null,
   "id": "462a40dc",
   "metadata": {},
   "outputs": [],
   "source": []
  }
 ],
 "metadata": {
  "kernelspec": {
   "display_name": "Python 3 (ipykernel)",
   "language": "python",
   "name": "python3"
  },
  "language_info": {
   "codemirror_mode": {
    "name": "ipython",
    "version": 3
   },
   "file_extension": ".py",
   "mimetype": "text/x-python",
   "name": "python",
   "nbconvert_exporter": "python",
   "pygments_lexer": "ipython3",
   "version": "3.10.8"
  }
 },
 "nbformat": 4,
 "nbformat_minor": 5
}
