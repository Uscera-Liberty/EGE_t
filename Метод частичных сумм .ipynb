{
 "cells": [
  {
   "cell_type": "code",
   "execution_count": null,
   "id": "14cd6992",
   "metadata": {},
   "outputs": [],
   "source": [
    "n  = int(f.readline())\n",
    "s = []\n",
    "for _ in range(n):\n",
    "    pair = [int(x) for x in f.readline().split()]\n",
    "    s = [a+b for a in s for b in pair]\n",
    "    s = {x%3: int(x) for x in sorted(s)}\n",
    "    s = s.values()\n",
    "print(max(x for x in s if x%3==0))"
   ]
  },
  {
   "cell_type": "code",
   "execution_count": null,
   "id": "40ac8383",
   "metadata": {},
   "outputs": [],
   "source": [
    "n  = int(f.readline())\n",
    "s = []\n",
    "for _ in range(n):\n",
    "    pair = [int(x) for x in f.readline().split()]\n",
    "    s = [a+b for a in s for b in pair]\n",
    "    s = {x%10: int(x) for x in sorted(s,reverse=1)}\n",
    "    s = s.values()\n",
    "print(min(x for x in s if x%10==4))"
   ]
  },
  {
   "cell_type": "code",
   "execution_count": null,
   "id": "54d7f0ee",
   "metadata": {},
   "outputs": [],
   "source": [
    "n =int(f.readline())\n",
    "s = [0]\n",
    "for i in range(n):\n",
    "    tr = [int(x) for x in f.readline().split()]\n",
    "    tr = [tr[0]+tr[1],tr[0]+tr[2],tr[1]+tr[2]]\n",
    "    tr.sort()\n",
    "    s+=tr[2]\n",
    "    if (tr[2]-tr[1])%5!=0:r = min(r,tr[2]-tr[1])\n",
    "    if (tr[2]-tr[0])%5!=0:r = min(r,tr[2]-tr[0])\n",
    "print(s if s%5!=0 else s-r)"
   ]
  },
  {
   "cell_type": "code",
   "execution_count": null,
   "id": "61dcaa4a",
   "metadata": {},
   "outputs": [],
   "source": [
    "n = int(f.readline())\n",
    "s = [0]\n",
    "r = 10**20\n",
    "for i in range(n):\n",
    "    tr = [int(x) for x in f.readline().split()]\n",
    "    tr = [tr[0]+tr[1],tr[1]+tr[2],tr[0]+tr[2]]\n",
    "    s = [a+b for a in s for b in tr]\n",
    "    s = {x%5:x for x in sorted(s)}.values()\n",
    "print(max(x for x in s if x%5!=0))"
   ]
  },
  {
   "cell_type": "code",
   "execution_count": null,
   "id": "b5f5952d",
   "metadata": {},
   "outputs": [],
   "source": [
    "n = int(f.readline())\n",
    "s = [[0,0,0]]\n",
    "for i in range(n):\n",
    "    tr = [int(x) for x in f.readline().split()]\n",
    "    s = [[a1+b1,a2+b2,a3+b3] for a1,a2,a3 in s for b1,b2,b3 in permutations(tr)]\n",
    "    s = {(x[1]%2,x[2]%2):x for x in sorted(s)}.values()\n",
    "for a1,a2,a3 in s:\n",
    "    if a1%2!=0 ans a2%2==0:\n",
    "        print(a3)"
   ]
  },
  {
   "cell_type": "code",
   "execution_count": null,
   "id": "5508deea",
   "metadata": {},
   "outputs": [],
   "source": [
    "n = int(f.readline())\n",
    "s = [[0,0,0]]\n",
    "# s[0] - сумма чисел, s[1]-количество четных,s[2] -количество нечетных\n",
    "for i in range(n):\n",
    "    pair = [int(x) for x in f.readline().split()]\n",
    "    s = [[a1+b,a2+(b%2==0),a2+(b%2==1)] for a1,a2,a3 in s for b in pair]\n",
    "    s = sorted(s)[-1000:]\n",
    "    if i%10000=0:print(i,n)\n",
    "ans = []\n",
    "for a,ch,nch in s:\n",
    "    if a%2 == 0 and ch > nch or a%2!=0 and ch < nch:\n",
    "        ans.append(a)\n",
    "print(max(ans))"
   ]
  },
  {
   "cell_type": "code",
   "execution_count": null,
   "id": "9b540bcb",
   "metadata": {},
   "outputs": [],
   "source": [
    "n = int(f.readline())\n",
    "s = []\n",
    "for i in range(n):\n",
    "    pair = [int(x) for x in f.readline().split()]\n",
    "    if pair[0]%2!=0:\n",
    "        pair.sort()\n",
    "        s = s + [[a1+pair[0], a2+pair[1]] for a1,a2 in s] + [pair]\n",
    "        s =list({(x[0]%2,x[1]%2):x for x in sorted(s,key=sum)}.values())\n",
    "        \n",
    "ans = []\n",
    "for a1,a2 in s:\n",
    "    if a1%2==0 and a2%2!=0:\n",
    "        ans.append(a1+a2)\n",
    "print(max(ans))"
   ]
  },
  {
   "cell_type": "code",
   "execution_count": null,
   "id": "309f9015",
   "metadata": {},
   "outputs": [],
   "source": [
    "n = int(f.readline())\n",
    "s = [0]\n",
    "M = 0\n",
    "for i in range(n):\n",
    "    pair = [int(x) for x in f.readline().split()]\n",
    "    M += sum(pair)\n",
    "    s = [a+b for a in s for b in pair]\n",
    "    s = {x%15:x for x in sorted(s)}.values()\n",
    "print(max(x for x in s if x%15!=0 and (M-x)%3!=0))"
   ]
  },
  {
   "cell_type": "code",
   "execution_count": null,
   "id": "131e2157",
   "metadata": {},
   "outputs": [],
   "source": [
    "n = int(f.readline())\n",
    "s = []\n",
    "ans = []\n",
    "for i in range(n):\n",
    "    x = int(f.readline())\n",
    "    # либо прибавляем к прошлым, либо начинаем новую\n",
    "    s = [a+x for a in s] + [x]\n",
    "    s = {(x%93,x%2):x for x in sorted(s)}\n",
    "    if (0,1) in s:ans.append(s[(0,1)])\n",
    "    s = s.values()\n",
    "print(max(ans))"
   ]
  },
  {
   "cell_type": "code",
   "execution_count": null,
   "id": "f1be7610",
   "metadata": {},
   "outputs": [],
   "source": [
    "n = int(f.readline())\n",
    "s = [[0,0]]\n",
    "ansn = int(f.readline())\n",
    "s = []\n",
    "ans = []\n",
    "for i in range(n):\n",
    "    x = int(f.readline())\n",
    "    # либо прибавляем к прошлым, либо начинаем новую\n",
    "    s = [a+x for a in s] + [x]\n",
    "    s = {(x%93,x%2):x for x in sorted(s)}\n",
    "    if (0,1) in s:ans.append(s[(0,1)])\n",
    "    s = s.values()\n",
    "print(max(ans)) = []\n",
    "for i in range(n):\n",
    "    x = int(f.readline())\n",
    "    s = [[a+x,b+1] for a,b in s] + [[x,1]]\n",
    "    s = {x[0]%69:x for x in sorted(s)}\n",
    "    if 0 in s: ans.append(s[0])\n",
    "    s = s.values()\n",
    "print(ans)"
   ]
  },
  {
   "cell_type": "code",
   "execution_count": null,
   "id": "b59238f5",
   "metadata": {},
   "outputs": [],
   "source": [
    "n = int(f.readline())\n",
    "s =[0]\n",
    "ans = []\n",
    "for i in range(n):\n",
    "    x = int(f.readline())\n",
    "    #предыдущие суммы или прибавляет к прошлым или начинаем новую\n",
    "    s = s + [a+x for a in s] + [x]\n",
    "    s = {x%11:x for x in sorted(s)}\n",
    "    if 0 in s:ans.append(s[0])\n",
    "    s = list(s.values())\n",
    "ans.sort()\n",
    "print(max(ans))"
   ]
  },
  {
   "cell_type": "code",
   "execution_count": null,
   "id": "6a623611",
   "metadata": {},
   "outputs": [],
   "source": [
    "n = int(f.readline())\n",
    "k = [0]*10\n",
    "for i in range(n):\n",
    "    x = int(f.readline())\n",
    "    k1 = k.copy()\n",
    "    for i in range(10):\n",
    "        k1[(i+x)%10] += k[i]\n",
    "    k1[x%10] += 1\n",
    "    k = k1\n",
    "print(k[9])"
   ]
  },
  {
   "cell_type": "code",
   "execution_count": null,
   "id": "29b190a1",
   "metadata": {},
   "outputs": [],
   "source": []
  },
  {
   "cell_type": "code",
   "execution_count": null,
   "id": "c21025ba",
   "metadata": {},
   "outputs": [],
   "source": []
  },
  {
   "cell_type": "code",
   "execution_count": null,
   "id": "a797b2a9",
   "metadata": {},
   "outputs": [],
   "source": [
    "n  = int(f.readline())\n",
    "s = []\n",
    "for _ in range(n):\n",
    "    pair = [int(x) for x in f.readline().split()]\n",
    "    s = [a+b for a in s for b in pair]\n",
    "    s = {x%3: int(x) for x in sorted(s)}\n",
    "    s = s.values()\n",
    "print(max(x for x in s if x%3!=0))"
   ]
  },
  {
   "cell_type": "code",
   "execution_count": 50,
   "id": "f91c6c41",
   "metadata": {},
   "outputs": [
    {
     "name": "stdout",
     "output_type": "stream",
     "text": [
      "127127\n"
     ]
    }
   ],
   "source": [
    "f = open('27-A_23.txt')\n",
    "n = int(f.readline())\n",
    "s = [0]\n",
    "for _ in range(n):\n",
    "    pair = [int(x) for x in f.readline().split()]\n",
    "    s = [a+b for a in s for b in pair]\n",
    "    s = {x%3:int(x) for x in sorted(s)}.values()\n",
    "print(max(x for x in s if x%3 != 0))"
   ]
  },
  {
   "cell_type": "code",
   "execution_count": 44,
   "id": "0d2e2035",
   "metadata": {},
   "outputs": [
    {
     "name": "stdout",
     "output_type": "stream",
     "text": [
      "214\n"
     ]
    }
   ],
   "source": [
    "f = open('27-A_814.txt')\n",
    "n = int(f.readline())\n",
    "s = [0]\n",
    "for i in range(n):\n",
    "    pair = [int(x) for x in f.readline().split()]\n",
    "    s = [a+b for a in s for b in pair]\n",
    "    s = {x%5: int(x) for x in sorted(s,reverse = 1)}.values()\n",
    "print(min(x for x in s if x%5!=0))"
   ]
  },
  {
   "cell_type": "code",
   "execution_count": null,
   "id": "41c909a6",
   "metadata": {},
   "outputs": [],
   "source": [
    "n = int(f.readline())\n",
    "s = []\n",
    "ans = []\n",
    "for i in range(n):\n",
    "    x = int(f.readline())\n",
    "    # либо прибавляем к прошлым, либо начинаем новую\n",
    "    s = [a+x for a in s] + [x]\n",
    "    s = {(x%93,x%2):x for x in sorted(s)}\n",
    "    if (0,1) in s:ans.append(s[(0,1)])\n",
    "    s = s.values()\n",
    "print(max(ans))\n",
    "\n",
    "n = int(f.realdine())\n",
    "s = ans = []\n",
    "for i in range(n):\n",
    "    x = int(f.readline())\n",
    "    s = [a+x for a in s] + [x]\n",
    "    s ={x%17:x for x in sorted(s)}\n",
    "    if 0 in s: ans.append(s[0])\n",
    "    s = s.values()\n",
    "print(ans)\n",
    "###\n",
    "n = int(f.readline())\n",
    "k = [0]*10\n",
    "for i in range(n):\n",
    "    x = int(f.readline())\n",
    "    k1 = k.copy()\n",
    "    for i in range(10):\n",
    "        k1[(i+x)%10] += k[i]\n",
    "    k1[x%10] += 1\n",
    "    k = k1\n",
    "print(k[5])"
   ]
  },
  {
   "cell_type": "code",
   "execution_count": 31,
   "id": "bc389cc3",
   "metadata": {},
   "outputs": [
    {
     "name": "stdout",
     "output_type": "stream",
     "text": [
      "58701760\n"
     ]
    }
   ],
   "source": [
    "f = open('27B_682.txt')\n",
    "n = int(f.readline())\n",
    "s = [0]\n",
    "ans = []\n",
    "for _ in range(n):\n",
    "    tr = [int(x) for x in f.readline().split()]\n",
    "    tr = [tr[0]+tr[1],tr[1]+tr[2],tr[0]+tr[2]]\n",
    "    s = [a+b for a in s for b in tr]\n",
    "    s = {x%4: x for x in sorted(s)}\n",
    "    if 0 in s:ans.append(s[0])\n",
    "    s = s.values()\n",
    "print(max(ans))"
   ]
  },
  {
   "cell_type": "code",
   "execution_count": null,
   "id": "f487bde3",
   "metadata": {},
   "outputs": [],
   "source": [
    "n = int(f.readline())\n",
    "s = [0]\n",
    "M = 0\n",
    "for i in range(n):\n",
    "    pair = [int(x) for x in f.readline().split()]\n",
    "    M += sum(pair)\n",
    "    s = [a+b for a in s for b in pair]\n",
    "    s = {x%15:x for x in sorted(s)}.values()\n",
    "print(max(x for x in s if x%15!=0))"
   ]
  },
  {
   "cell_type": "code",
   "execution_count": 12,
   "id": "06c8c1e2",
   "metadata": {},
   "outputs": [
    {
     "name": "stdout",
     "output_type": "stream",
     "text": [
      "[47955, 14]\n"
     ]
    }
   ],
   "source": [
    "f = open('27A_1877.txt')\n",
    "n = int(f.readline())\n",
    "s = []\n",
    "ans = []\n",
    "for i in range(n):\n",
    "    x = int(f.readline())\n",
    "    s = [[a+x,b+1] for a,b in s] + [[x,1]]\n",
    "    s = {x[0]%69:x for x in sorted(s)}\n",
    "    if 0 in s: ans.append(s[0])\n",
    "    s = s.values()\n",
    "print(max(ans))"
   ]
  },
  {
   "cell_type": "code",
   "execution_count": 6,
   "id": "abe3b16a",
   "metadata": {},
   "outputs": [
    {
     "name": "stdout",
     "output_type": "stream",
     "text": [
      "[-1339665, 8208]\n"
     ]
    }
   ],
   "source": [
    "f = open('27B_2904.txt')\n",
    "n = int(f.readline())\n",
    "s = []\n",
    "ans = []\n",
    "for i in range(n):\n",
    "    x = int(f.readline())\n",
    "    s = [[a+x,b+1] for a,b in s] + [[x,1]]\n",
    "    s = {x[0]%2077:x for x in sorted(s,reverse=1)}\n",
    "    if 0 in s: ans.append(s[0])\n",
    "    s = s.values()\n",
    "print(min(ans))"
   ]
  },
  {
   "cell_type": "code",
   "execution_count": 14,
   "id": "b8590090",
   "metadata": {},
   "outputs": [
    {
     "name": "stdout",
     "output_type": "stream",
     "text": [
      "49763000\n"
     ]
    }
   ],
   "source": [
    "f = open('27B_2900.txt')\n",
    "n = int(f.readline())\n",
    "s = []\n",
    "ans = []\n",
    "for i in range(n):\n",
    "    x = int(f.readline())\n",
    "    s = [a+x for a in s]+[x]\n",
    "    s = {x%1000:x for x in sorted(s)}\n",
    "    if 0 in s: ans.append(s[0])\n",
    "    s = s.values()\n",
    "print(max(ans))"
   ]
  },
  {
   "cell_type": "code",
   "execution_count": 25,
   "id": "60ab7828",
   "metadata": {},
   "outputs": [
    {
     "name": "stdout",
     "output_type": "stream",
     "text": [
      "248359970\n"
     ]
    }
   ],
   "source": [
    "f = open('27B_2481.txt')\n",
    "n = int(f.readline())\n",
    "s = ans = [0]\n",
    "for i in range(n):\n",
    "    x = int(f.readline())\n",
    "    s = s + [a+x for a in s] + [x] #там все подмножества !!!!\n",
    "    s ={x%17:x for x in sorted(s)}\n",
    "    if 0 in s: ans.append(s[0])\n",
    "    s = list(s.values())\n",
    "print(max(ans))"
   ]
  },
  {
   "cell_type": "code",
   "execution_count": null,
   "id": "33fd70d8",
   "metadata": {},
   "outputs": [],
   "source": []
  }
 ],
 "metadata": {
  "kernelspec": {
   "display_name": "Python 3 (ipykernel)",
   "language": "python",
   "name": "python3"
  },
  "language_info": {
   "codemirror_mode": {
    "name": "ipython",
    "version": 3
   },
   "file_extension": ".py",
   "mimetype": "text/x-python",
   "name": "python",
   "nbconvert_exporter": "python",
   "pygments_lexer": "ipython3",
   "version": "3.10.8"
  }
 },
 "nbformat": 4,
 "nbformat_minor": 5
}
